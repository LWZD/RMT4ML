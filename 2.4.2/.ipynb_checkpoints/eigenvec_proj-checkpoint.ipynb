{
 "cells": [
  {
   "cell_type": "markdown",
   "metadata": {},
   "source": [
    "# Section 2.4.2: Eigenvector projections and subspace methods\n",
    "\n",
    "This page contains the example of estimating eigenspace correlation of the sample covariance model, in the **fully separable** case.\n",
    "\n",
    "## Contents\n",
    "\n",
    "    - Empirical eigenvalues of $\\frac1n X X^T$ versus limiting spectrum\n",
    "    - Empirical eigenspace correlation\n",
    "    - Estimation of eigenspace correlation with rectangular contour\n",
    "    - Estimation of eigenspace correlation with line integrals (simplified from contour integration)\n",
    "    - Application: \"spiked\" model eigenspace correlation\n",
    "\n",
    "## Empirical eigenvalues of $\\frac1n X X^T$ versus limiting spectrum"
   ]
  },
  {
   "cell_type": "code",
   "execution_count": 1,
   "metadata": {},
   "outputs": [],
   "source": [
    "import numpy as np\n",
    "import matplotlib.pyplot as plt\n",
    "import scipy.linalg\n",
    "pi = np.pi"
   ]
  },
  {
   "cell_type": "code",
   "execution_count": 2,
   "metadata": {},
   "outputs": [],
   "source": [
    "# FUNCTIONS\n",
    "def SCM_func_inv(tilde_m, eig_C, cs, c):\n",
    "#SCM_func_inv functional inverse of Stieltjes transform of large sample covariance model\n",
    "#   INPUT: Stieltjes transform tilde_m, (k-discrete) eigenvalues of C, vector cs=p_a/p for a=1,...k, ratio c=p/n\n",
    "#   OUTPUT: functional inverse x (of tilde_m) and its first derivative x_d\n",
    "\n",
    "    assert len(eig_C) == len(cs),'Error: nb of (discrete) eigenvalues and nb of classes not equal!'\n",
    "\n",
    "    x = -1/tilde_m\n",
    "    x_d = 1/(tilde_m ** 2)\n",
    "\n",
    "    for a in range(len(cs)):\n",
    "        x   = x   + c*cs[a]*eig_C[a]/(1+eig_C[a]*tilde_m)\n",
    "        x_d = x_d - c*cs[a]*eig_C[a]**2/(1+eig_C[a]*tilde_m)**2\n",
    "\n",
    "    return x,x_d"
   ]
  },
  {
   "cell_type": "code",
   "execution_count": 3,
   "metadata": {},
   "outputs": [
    {
     "data": {
      "image/png": "[encoded data removed]",
      "text/plain": [
       "<Figure size 432x288 with 1 Axes>"
      ]
     },
     "metadata": {
      "needs_background": "light"
     },
     "output_type": "display_data"
    }
   ],
   "source": [
    "coeff = 3\n",
    "p = 100*coeff\n",
    "n = 1000*coeff\n",
    "c = p/n\n",
    "\n",
    "eig_C = [1,3,7]\n",
    "cs = [1/3,1/3,1/3]\n",
    "C = np.array(np.diag(np.concatenate([eig_C[0]*np.ones(int(p*cs[0])),eig_C[1]*np.ones(int(p*cs[1])),eig_C[2]*np.ones(int(p*cs[2]))]))) # population covariance\n",
    "eigs_C,U = np.linalg.eig(C)\n",
    "arg_sort = np.argsort(eigs_C)\n",
    "\n",
    "eigs_C = eigs_C[arg_sort][::-1]\n",
    "U = U[:,arg_sort][::-1]\n",
    "\n",
    "Z = np.array(np.random.randn(p,n))\n",
    "X = scipy.linalg.sqrtm(C) @ Z\n",
    "\n",
    "SCM = X @ X.T/n # sample covariance matrix and its empirical spectral measure\n",
    "eigs_SCM,hat_U = np.linalg.eig(SCM)\n",
    "arg_sort      = np.argsort(eigs_SCM)\n",
    "\n",
    "eigs_SCM = eigs_SCM[arg_sort][::-1]\n",
    "hat_U = hat_U[:,arg_sort][::-1]\n",
    "\n",
    "edges=np.linspace(np.min(eigs_SCM)-.1,np.max(eigs_SCM)+.1,100)\n",
    "\n",
    "y  = 1e-5\n",
    "zs = edges+y*1j\n",
    "mu = []\n",
    "\n",
    "tilde_m=0\n",
    "for z in zs:\n",
    "\n",
    "    tilde_m_tmp=-1\n",
    "    while abs(tilde_m-tilde_m_tmp)>1e-6:\n",
    "        tilde_m_tmp=tilde_m\n",
    "        tilde_m = 1/( -z + 1/n*np.sum(eigs_C/(1+tilde_m*eigs_C)) )\n",
    "\n",
    "    m = tilde_m/c+(1-c)/(c*z)\n",
    "    mu.append(np.imag(m)/pi)\n",
    "\n",
    "# limiting versus empirical spectral measure of SCM    \n",
    "plt.hist(eigs_SCM,bins=edges,weights=1/p/(edges[1]-edges[0])*np.ones(p),label='Empirical eigenvalues')\n",
    "plt.plot(edges,mu,'r',label='Limiting spectrum')\n",
    "_ = plt.legend()\n"
   ]
  },
  {
   "cell_type": "code",
   "execution_count": 4,
   "metadata": {},
   "outputs": [
    {
     "data": {
      "image/png": "[encoded data removed]",
      "text/plain": [
       "<Figure size 432x288 with 1 Axes>"
      ]
     },
     "metadata": {
      "needs_background": "light"
     },
     "output_type": "display_data"
    }
   ],
   "source": [
    "# ## Determine the support of $\\mu$ via Theorem 2.10\n",
    "Tol = 1e-3\n",
    "search_min = -2\n",
    "search_max = Tol\n",
    "search_domain = np.linspace(search_min, search_max, 5000) # search domain of tilde_m\n",
    "\n",
    "x_d = SCM_func_inv(search_domain, eig_C, cs, c)[1]\n",
    "x_d_1 = x_d[:-1]\n",
    "x_d_2 = x_d[1:]\n",
    "zero_deri_index = [ i for i in range(len(x_d_1)) if x_d_1[i]*x_d_2[i]<0 ]\n",
    "support_edges   = SCM_func_inv(search_domain[zero_deri_index], eig_C, cs ,c)[0]\n",
    "\n",
    "if len(support_edges) != 2*len(eig_C):\n",
    "    print('Error: nb of (discrete) eigenvalues and nb of support edges do not match!')\n",
    "\n",
    "\n",
    "# compare estimated support with empirical eigenvalues\n",
    "plt.subplot(2,1,2)\n",
    "plt.plot(eigs_SCM,np.zeros(len(eigs_SCM)), 'bx')\n",
    "for edge in support_edges:\n",
    "    plt.plot(edge*np.ones(10), np.linspace(-.1,.1,10),'r')\n",
    "plt.xlabel(r'$\\Re[z]$')\n",
    "plt.ylabel(r'$\\Im[z]$')\n",
    "plt.gca().set_xlim(0,np.max(eigs_SCM)+.5)\n",
    "_ = plt.gca().set_ylim(-.5,.5)"
   ]
  },
  {
   "cell_type": "markdown",
   "metadata": {},
   "source": [
    "## Empirical eigenspace correlation"
   ]
  },
  {
   "cell_type": "code",
   "execution_count": 5,
   "metadata": {},
   "outputs": [
    {
     "name": "stdout",
     "output_type": "stream",
     "text": [
      "Empirical eigenspace correlation:\n",
      "[0.9462726726192956, 0.9088257794427352, 0.9290540101289708]\n"
     ]
    }
   ],
   "source": [
    "emp_eig_corr = []\n",
    "\n",
    "index = 0\n",
    "for c_ in cs:\n",
    "    U_spike = U[:,index:int(index+p*c_-1)]\n",
    "    hat_U_spike = hat_U[:,index:int(index+p*c_-1)]\n",
    "    emp_eig_corr.append(np.trace((hat_U_spike.T) @ U_spike @ (U_spike.T) @ hat_U_spike)/p/c_)\n",
    "    index = int(index+p*c_)\n",
    "\n",
    "print('Empirical eigenspace correlation:')\n",
    "print(emp_eig_corr)"
   ]
  },
  {
   "cell_type": "markdown",
   "metadata": {},
   "source": [
    "## Estimation of eigenspace correlation with rectangular contour"
   ]
  },
  {
   "cell_type": "code",
   "execution_count": 6,
   "metadata": {},
   "outputs": [
    {
     "name": "stdout",
     "output_type": "stream",
     "text": [
      "Eigenspace correlation estimated with contour integration:\n",
      "[0.9595787355023139, 0.9210649990219708, 0.9432862851095482]\n"
     ]
    }
   ],
   "source": [
    "estim_eig_corr = []\n",
    "\n",
    "for a in range(len(cs)):\n",
    "    popu_eig = eig_C[a]\n",
    "\n",
    "    y_min = -1\n",
    "    y_max = 1\n",
    "    x_min = support_edges[2*a]-.1\n",
    "    x_max = support_edges[2*a+1]+.1\n",
    "\n",
    "    zs1 = np.arange(x_max,x_min,-.1) + y_max*1j\n",
    "    zs2 = x_min + np.arange(y_max,y_min,-0.1)*1j\n",
    "    zs3 = np.arange(x_min,x_max,0.1) + y_min*1j\n",
    "    zs4 = x_max + np.arange(y_min,y_max,0.1)*1j\n",
    "\n",
    "    zs = np.concatenate([zs1, zs2, zs3, zs4]) # rectangular contour\n",
    "\n",
    "    integrand = []\n",
    "\n",
    "    tilde_m=0\n",
    "    for z in zs:\n",
    "        \n",
    "        tilde_m_tmp=-1\n",
    "        while abs(tilde_m-tilde_m_tmp)>1e-6:\n",
    "            tilde_m_tmp=tilde_m\n",
    "            tilde_m = 1/( -z + 1/n*np.sum(eigs_C/(1+tilde_m*eigs_C)) )\n",
    "\n",
    "        integrand.append(1/z/(1+tilde_m*popu_eig))\n",
    "\n",
    "    estim_eig_corr.append(np.real(np.trapz(integrand,zs)/(pi*2j)))\n",
    "\n",
    "print('Eigenspace correlation estimated with contour integration:')\n",
    "print(estim_eig_corr)"
   ]
  },
  {
   "cell_type": "markdown",
   "metadata": {},
   "source": [
    "## Estimation of eigenspace correlation with line integrals"
   ]
  },
  {
   "cell_type": "code",
   "execution_count": 7,
   "metadata": {},
   "outputs": [
    {
     "name": "stdout",
     "output_type": "stream",
     "text": [
      "Eigenspace correlation estimated with line integral:\n",
      "[0.9659005054384959, 0.9280615596047375, 0.9484570817306597]\n"
     ]
    }
   ],
   "source": [
    "estim_eig_corr = []\n",
    "\n",
    "for a in range(len(cs)):\n",
    "\n",
    "    xs = np.linspace(support_edges[2*a],support_edges[2*a+1], 500)\n",
    "    popu_eig = eig_C[a]\n",
    "    integrand = []\n",
    "\n",
    "    tilde_m=0\n",
    "    y = 1e-5\n",
    "    for x in xs:\n",
    "        z = x+y*1j\n",
    "\n",
    "        tilde_m_tmp=-1\n",
    "        while abs(tilde_m-tilde_m_tmp)>1e-6:\n",
    "            tilde_m_tmp=tilde_m\n",
    "            tilde_m = 1/( -z + 1/n*np.sum(eigs_C/(1+tilde_m*eigs_C)))\n",
    "\n",
    "        integrand.append(popu_eig*np.imag(tilde_m)/( 1 + 2*popu_eig*np.real(tilde_m) + popu_eig**2*abs(tilde_m)**2 )/pi/x)\n",
    "\n",
    "    estim_eig_corr.append(np.trapz(integrand,xs))\n",
    "\n",
    "print('Eigenspace correlation estimated with line integral:')\n",
    "print(estim_eig_corr)"
   ]
  },
  {
   "cell_type": "markdown",
   "metadata": {},
   "source": [
    "## Application: \"spiked\" model eigenvalue correlation"
   ]
  },
  {
   "cell_type": "code",
   "execution_count": 8,
   "metadata": {},
   "outputs": [
    {
     "data": {
      "image/png": "[encoded data removed]",
      "text/plain": [
       "<Figure size 432x288 with 1 Axes>"
      ]
     },
     "metadata": {
      "needs_background": "light"
     },
     "output_type": "display_data"
    }
   ],
   "source": [
    "m_loop = np.array(range(15))+1\n",
    "p_over_m = 16\n",
    "n = 1024\n",
    "c_loop = p_over_m*m_loop/n\n",
    "\n",
    "emp_eig_corr = []\n",
    "estim_eig_corr = []\n",
    "\n",
    "np.random.seed(928)\n",
    "\n",
    "for m in m_loop:\n",
    "    p = int(p_over_m*m)\n",
    "    c = p/n\n",
    "\n",
    "    Z = np.mat(np.random.randn(p,n))\n",
    "\n",
    "    eig_C = [1,2]\n",
    "    cs = np.array([(p_over_m-1)/p_over_m, 1/p_over_m])\n",
    "    C  = np.mat(np.diag(np.concatenate([eig_C[0]*np.ones((p_over_m-1)*m),eig_C[1]*np.ones(m)]))) # population covariance\n",
    "    eigs_C,U = np.linalg.eig(C)\n",
    "    \n",
    "    arg_sort = np.argsort(eigs_C)\n",
    "    eigs_C = eigs_C[arg_sort]\n",
    "    U = U[:,arg_sort]\n",
    "    \n",
    "    \n",
    "    X = scipy.linalg.sqrtm(C) @ Z\n",
    "\n",
    "    SCM = X@(X.T)/n # sample covariance matrix and its empirical spectral measure\n",
    "    eigs_SCM,hat_U = np.linalg.eig(SCM)\n",
    "\n",
    "    arg_sort = np.argsort(eigs_SCM)\n",
    "    eigs_SCM = eigs_SCM[arg_sort]\n",
    "    hat_U = hat_U[:,arg_sort]\n",
    "    \n",
    "    edges=np.linspace(np.min(eigs_SCM)-.1,np.max(eigs_SCM)+.1,20)\n",
    "\n",
    "    Tol = 1e-3\n",
    "    search_min = -3\n",
    "    search_max = Tol\n",
    "    search_domain = np.linspace(search_min, search_max, 5000) # search domain of tilde_m\n",
    "\n",
    "    x_d   = SCM_func_inv(search_domain, eig_C, cs, c)[1]\n",
    "    x_d_1 = x_d[:-1]\n",
    "    x_d_2 = x_d[1:]\n",
    "    zero_deri_index = [ i for i in range(len(x_d_1)) if x_d_1[i]*x_d_2[i]<0 ]\n",
    "    support_edges = SCM_func_inv(search_domain[zero_deri_index], eig_C, cs ,c)[0]\n",
    "\n",
    "    # empirical evaluation of the \"spike\" eigenspace correlation\n",
    "    U_spike = U[:,p-m:]\n",
    "    hat_U_spike = hat_U[:,p-m:]\n",
    "    emp_eig_corr.append(np.trace( (hat_U_spike.T) @ U_spike @ (U_spike.T) @ hat_U_spike)/m)\n",
    "\n",
    "    # theory\n",
    "    xs = np.linspace(support_edges[2],support_edges[3], 500)\n",
    "    popu_eig = eig_C[1]\n",
    "    integrand = []\n",
    "\n",
    "    tilde_m=0\n",
    "    y = 1e-5\n",
    "    for x in xs:\n",
    "        z = x+y*1j\n",
    "\n",
    "        tilde_m_tmp=-1\n",
    "        while abs(tilde_m-tilde_m_tmp)>1e-6:\n",
    "            tilde_m_tmp=tilde_m\n",
    "            tilde_m = 1/( -z + 1/n*np.sum(eigs_C/(1+tilde_m*eigs_C)) )\n",
    "\n",
    "        integrand.append(popu_eig*np.imag(tilde_m)/( 1 + 2*popu_eig*np.real(tilde_m) + popu_eig**2*abs(tilde_m)**2 )/pi/x)\n",
    "\n",
    "    estim_eig_corr.append(np.trapz(integrand,xs))\n",
    "\n",
    "plt.plot(c_loop,emp_eig_corr,'bx',label=r'Empirical spike eigenspace correlation')\n",
    "plt.plot(c_loop,estim_eig_corr,'r--',label=r'Asymptotics in Sec 2.4.2.2')\n",
    "plt.plot(c_loop,(1-c_loop/4)/(1+c_loop/2),'k',label=r'Asymptotics via spiked model')\n",
    "plt.axvline(x=c_loop[0],c='k',ls='--')\n",
    "plt.xlabel(r'$p/n$')\n",
    "plt.ylabel(r'Eigenspace correlation')\n",
    "_ = plt.legend()"
   ]
  }
 ],
 "metadata": {
  "kernelspec": {
   "display_name": "Python 3",
   "language": "python",
   "name": "python3"
  },
  "language_info": {
   "codemirror_mode": {
    "name": "ipython",
    "version": 3
   },
   "file_extension": ".py",
   "mimetype": "text/x-python",
   "name": "python",
   "nbconvert_exporter": "python",
   "pygments_lexer": "ipython3",
   "version": "3.7.3"
  }
 },
 "nbformat": 4,
 "nbformat_minor": 4
}
