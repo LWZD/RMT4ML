{
 "cells": [
  {
   "cell_type": "markdown",
   "metadata": {},
   "source": [
    "# Section 3.1.2: Linear discriminant analysis (LDA)\n",
    "\n",
    "This page contains simulations in Section 3.1.2.\n",
    "\n",
    "## Contents\n",
    "\n",
    "    - Basic settings\n",
    "    - Empirical evaluation of LDA\n",
    "    - Theoretical prediction of LDA decision (soft) output\n",
    "\n",
    "\n",
    "## Basic setting"
   ]
  },
  {
   "cell_type": "code",
   "execution_count": 1,
   "metadata": {},
   "outputs": [],
   "source": [
    "import numpy as np\n",
    "import scipy.linalg\n",
    "from scipy.stats import norm\n",
    "import matplotlib.pyplot as plt\n",
    "from tensorflow.keras.datasets import mnist,fashion_mnist"
   ]
  },
  {
   "cell_type": "code",
   "execution_count": 2,
   "metadata": {},
   "outputs": [],
   "source": [
    "testcase = 'MNIST' # Among 'GMM', 'MNIST' and 'fashion-MNIST'\n",
    "testcase_option = 'mixed'  # when testcase = 'GMM', among 'mean', 'cov', 'orth' and 'mixed'\n",
    "\n",
    "coeff = 1\n",
    "n = 2048*coeff\n",
    "n_test = 128*coeff\n",
    "cs = [1/2,1/2]\n",
    "k = len(cs)\n",
    "\n",
    "if testcase == 'GMM':\n",
    "    p = 512*coeff\n",
    "        \n",
    "    if testcase_option == 'means': # l = 0 or 1\n",
    "            means = lambda l : np.mat(np.concatenate([np.zeros(l+1),[1],np.zeros(p-l-2)])*3).T\n",
    "            #means = lambda l : np.sqrt(2)*(-1)**l*np.concatenate([np.ones(p/2),-1*np.ones(p/2)])/np.sqrt(p)\n",
    "            covs  = lambda l : np.eye(p)\n",
    "            \n",
    "    if testcase_option == 'cov':\n",
    "            means = lambda l : np.mat(np.zeros(p)).T\n",
    "            covs  = lambda l : np.eye(p)*(1+l/np.sqrt(p)*15)\n",
    "            \n",
    "    if testcase_option == 'orth':\n",
    "            means = lambda l : np.mat(np.zeros(p)).T\n",
    "            covs  = lambda l : scipy.linalg.toeplitz( [(4*l/10)**i for i in range(p)] )\n",
    "    if testcase_option == 'mixed':\n",
    "            means = lambda l : np.mat(np.concatenate([np.zeros(l+1),[1],np.zeros(p-l-2)])*3).T\n",
    "            covs  = lambda l : scipy.linalg.toeplitz( [(4*l/10)**i for i in range(p)] )\n",
    "            #covs  = lambda l : np.eye(p)*(1+l/np.sqrt(p)*15)\n",
    "            #covs  = lambda l : scipy.linalg.toeplitz( [(4*l/10)**i*(1+l/np.sqrt(p)*4) for i in range(p)] )\n",
    "\n",
    "if testcase == 'MNIST':\n",
    "    (init_data, init_labels), _ = mnist.load_data()\n",
    "\n",
    "if testcase == 'fashion-MNIST':\n",
    "    (init_data, init_labels), _ = fashion_mnist.load_data()\n",
    "\n",
    "if testcase in ('MNIST','fashion-MNIST'): # real-world data pre-processing\n",
    "\n",
    "    idx_init_labels = np.argsort(np.array(init_labels))\n",
    "    \n",
    "    labels = init_labels[idx_init_labels]\n",
    "    init_data = init_data[idx_init_labels,:,:]\n",
    "    data = np.transpose(init_data.reshape(np.shape(init_data)[0],np.shape(init_data)[1]*np.shape(init_data)[2]))\n",
    "    init_n,p=np.shape(data)[1],np.shape(data)[0]\n",
    "\n",
    "    selected_labels=[3,4]\n",
    "\n",
    "    data = data/data.max()\n",
    "    mean_data=np.mean(data,axis=1).reshape(len(data),1)\n",
    "    \n",
    "    norm2_data=0\n",
    "    for i in range(init_n):\n",
    "        norm2_data+=1/init_n*np.linalg.norm(data[:,i]-mean_data)**2\n",
    "\n",
    "    data=np.mat((data-mean_data)/np.sqrt(norm2_data)*np.sqrt(p))\n",
    "\n",
    "    selected_data = []\n",
    "    \n",
    "    for i in range(len(selected_labels)):\n",
    "        selected_data.append(data[:,[ x for x in range(init_n) if labels[x]==selected_labels[i] ] ])\n",
    "        if i==0:    \n",
    "            cascade_selected_data = selected_data[-1]\n",
    "        else:\n",
    "            np.concatenate([cascade_selected_data,selected_data[-1]],axis=1)\n",
    "\n",
    "    # recentering of the k classes\n",
    "    mean_selected_data  = np.mean(cascade_selected_data,axis=1).reshape(len(cascade_selected_data),1)\n",
    "    norm2_selected_data = np.mean(np.sum(np.power(np.abs(cascade_selected_data-mean_selected_data),2)))\n",
    "\n",
    "    for j in range(len(selected_labels)):\n",
    "        selected_data[j]=(selected_data[j]-mean_selected_data)/np.sqrt(norm2_selected_data)*np.sqrt(p)\n",
    "\n",
    "    means = lambda l : np.mean(selected_data[l],axis=1)\n",
    "    covs  = lambda l : 1/np.shape(selected_data[l])[1]*(selected_data[l]@selected_data[l].T)-means(l)@means(l).T"
   ]
  },
  {
   "cell_type": "markdown",
   "metadata": {},
   "source": [
    "## Empirical evaluation of LDA"
   ]
  },
  {
   "cell_type": "code",
   "execution_count": 3,
   "metadata": {},
   "outputs": [
    {
     "name": "stdout",
     "output_type": "stream",
     "text": [
      "Classif accuracy: 0.9734375\n"
     ]
    }
   ],
   "source": [
    "gamma = .1 # regularization parameter\n",
    "\n",
    "nb_loop = 30\n",
    "T_store = np.zeros( (n_test,nb_loop) )\n",
    "accuracy_store = np.zeros(nb_loop)\n",
    "for data_loop in range(nb_loop):\n",
    "\n",
    "    if testcase in ('MNIST', 'fashion-MNIST'): # generate data\n",
    "        X= np.mat(np.zeros( (p,n) ))\n",
    "        X_test=np.mat(np.zeros( (p,n_test) ))\n",
    "        for i in range(k): # random data picking\n",
    "            data = selected_data[i][:,np.random.permutation(np.shape(selected_data[i])[1])]\n",
    "            X[:,int(np.sum(cs[:i])*n):int(np.sum(cs[:i+1])*n)]=data[:,:int(n*cs[i])]\n",
    "            X_test[:,int(np.sum(cs[:i])*n_test):int(np.sum(cs[:i+1])*n_test)]=data[:,n:n+int(n_test*cs[i])]\n",
    "            \n",
    "    if testcase == 'GMM':\n",
    "        W= np.mat(np.zeros( (p,n) ))\n",
    "        W_test=np.mat(np.zeros( (p,n_test) ))\n",
    "        for i in range(k):\n",
    "            W[:,int(np.sum(cs[:i])*n):int(np.sum(cs[:i+1])*n)]=scipy.linalg.sqrtm(covs(i))@np.mat(np.random.randn(p,int(cs[i]*n)))\n",
    "            W_test[:,int(np.sum(cs[:i])*n_test):int(np.sum(cs[:i+1])*n_test)]=scipy.linalg.sqrtm(covs(i))@np.mat(np.random.randn(p,int(cs[i]*n_test)))\n",
    "\n",
    "        X=np.mat(np.zeros( (p,n) ))\n",
    "        X_test=np.mat(np.zeros( (p,n_test) ))\n",
    "        for i in range(k):\n",
    "            X[:,int(np.sum(cs[:i])*n):int(np.sum(cs[:i+1])*n)]=W[:,int(np.sum(cs[:i])*n):int(np.sum(cs[:i+1])*n)]+means(i-1)\n",
    "            X_test[:,int(np.sum(cs[:i])*n_test):int(np.sum(cs[:i+1])*n_test)]=W_test[:,int(np.sum(cs[:i])*n_test):int(np.sum(cs[:i+1])*n_test)]+means(i-1)\n",
    "            \n",
    "    # run LDA\n",
    "    X_train0 = X[:,:int(n*cs[0])]\n",
    "    X_train1 = X[:,int(n*cs[0]):]\n",
    "\n",
    "    hat_mu0 = np.mean(X_train0,axis=1)\n",
    "    hat_mu1 = np.mean(X_train1,axis=1)\n",
    "    hat_mu = np.mat(hat_mu0 + hat_mu1)/2\n",
    "\n",
    "    P = lambda l : np.mat(np.eye(int(cs[l]*n)) - np.ones( (int(cs[l]*n),int(cs[l]*n)) )/(cs[l]*n))\n",
    "    hat_C_gamma = ( X_train0 @ P(0) @ X_train0.T + X_train1 @ P(1) @ X_train1.T )/(n-2) + gamma*np.eye(p)\n",
    "\n",
    "    # decision function\n",
    "    T = lambda x : np.mat((x - hat_mu).T) @ np.mat(np.linalg.solve(hat_C_gamma,(hat_mu0 - hat_mu1)))\n",
    "    T_store[:,data_loop] = T(X_test).reshape(len(T_store))\n",
    "\n",
    "    accuracy_store[data_loop] = np.sum(T(X_test[:,:int(cs[0]*n_test)])>0)/(n_test*cs[0])/2+np.sum(T(X_test[:,int(cs[0]*n_test):])<0)/(n_test*cs[1])/2\n",
    "\n",
    "T_store0 = T_store[:int(cs[0]*n_test),:]\n",
    "T_store1 = T_store[int(cs[0]*n_test):,:]\n",
    "\n",
    "print('Classif accuracy:',np.mean(accuracy_store))"
   ]
  },
  {
   "cell_type": "markdown",
   "metadata": {},
   "source": [
    "## Theoretical predictions of LDA decision (soft) output"
   ]
  },
  {
   "cell_type": "code",
   "execution_count": 4,
   "metadata": {},
   "outputs": [
    {
     "data": {
      "image/png": "[encoded data removed]",
      "text/plain": [
       "<Figure size 432x288 with 1 Axes>"
      ]
     },
     "metadata": {
      "needs_background": "light"
     },
     "output_type": "display_data"
    }
   ],
   "source": [
    "eigs_C = lambda l : np.linalg.eigh(covs(l))[0]\n",
    "\n",
    "z = - gamma\n",
    "tilde_g = np.ones(2)\n",
    "tilde_g_tmp = np.zeros(2)\n",
    "g = np.zeros(2)\n",
    "\n",
    "#watch_dog = 1;\n",
    "while np.sum(np.abs(tilde_g-tilde_g_tmp))>1e-6: #and watch_dog<50\n",
    "    tilde_g_tmp[:] = tilde_g[:]\n",
    "\n",
    "    eigs_C_sum = cs[0]*tilde_g[0]*eigs_C(0) + cs[1]*tilde_g[1]*eigs_C(1)\n",
    "\n",
    "    for a in [0,1]:\n",
    "        g[a] = -1/z*np.sum( eigs_C(a)/(1 + eigs_C_sum) )/n\n",
    "        tilde_g[a] = -1/z/(1+g[a])\n",
    "\n",
    "bar_Q = -1/z*np.linalg.inv( np.eye(p) + cs[0]*tilde_g[0]*covs(0) + cs[1]*tilde_g[1]*covs(1) )\n",
    "\n",
    "S = gamma**2*np.mat([[cs[0]*tilde_g[0]**2*np.trace( covs(0)*bar_Q @ covs(0) @ bar_Q )/n,cs[1]*tilde_g[0]**2*np.trace( covs(0) @ bar_Q @ covs(1) @ bar_Q )/n],[cs[0]*tilde_g[1]**2*np.trace( covs(0) @ bar_Q @ covs(1) @ bar_Q )/n, cs[1]*tilde_g[1]**2*np.trace( covs(1) @ bar_Q @ covs(1) @ bar_Q )/n]])\n",
    "tmp_S = np.linalg.inv(np.eye(2) - S) @ S\n",
    "R = lambda ll,l : cs[ll]/cs[l]*tmp_S[ll,l]\n",
    "\n",
    "bar_QCQ = lambda l : bar_Q @ covs(l) @ bar_Q + R(0,l)*bar_Q@covs(0)@bar_Q + R(1,l)*bar_Q@covs(1)@bar_Q\n",
    "\n",
    "delta_mu = np.mat(means(0) - means(1))\n",
    "theo_mean = lambda l : (-1)**l*delta_mu.T@bar_Q@delta_mu/2 - g[0]/2 + g[1]/2\n",
    "theo_var  = lambda l : delta_mu.T@bar_QCQ(l)@delta_mu + np.trace(covs(0)@bar_QCQ(l))/(n*cs[0]) + np.trace(covs(1)@bar_QCQ(l))/(n*cs[1])\n",
    "\n",
    "edges = np.linspace(np.min([T_store0.reshape(np.size(T_store0)),T_store1.reshape(np.size(T_store1))])-.5,np.max([T_store0.reshape(np.size(T_store0)),T_store1.reshape(np.size(T_store1))])+.5,300)\n",
    "\n",
    "plt.hist(T_store0.reshape(np.size(T_store0)),bins=edges,weights=1/np.size(T_store0)/(edges[1]-edges[0])*np.ones(np.size(T_store0)),label=r'empirical $T(x\\sim H_0)$')\n",
    "plt.hist(T_store1.reshape(np.size(T_store1)),bins=edges,weights=1/np.size(T_store1)/(edges[1]-edges[0])*np.ones(np.size(T_store1)),label=r'empirical $T(x\\sim H_1)$')\n",
    "plt.plot(edges,scipy.stats.norm.pdf(edges, theo_mean(0),np.sqrt(theo_var(0))).reshape(len(edges)),'--b',label=r'theory $T(x\\sim H_0)$')\n",
    "plt.plot(edges,scipy.stats.norm.pdf(edges, theo_mean(1),np.sqrt(theo_var(1))).reshape(len(edges)),'--r',label=r'theory $T(x\\sim H_1)$')\n",
    "_ = plt.legend()"
   ]
  }
 ],
 "metadata": {
  "kernelspec": {
   "display_name": "Python 3",
   "language": "python",
   "name": "python3"
  },
  "language_info": {
   "codemirror_mode": {
    "name": "ipython",
    "version": 3
   },
   "file_extension": ".py",
   "mimetype": "text/x-python",
   "name": "python",
   "nbconvert_exporter": "python",
   "pygments_lexer": "ipython3",
   "version": "3.7.3"
  }
 },
 "nbformat": 4,
 "nbformat_minor": 4
}
