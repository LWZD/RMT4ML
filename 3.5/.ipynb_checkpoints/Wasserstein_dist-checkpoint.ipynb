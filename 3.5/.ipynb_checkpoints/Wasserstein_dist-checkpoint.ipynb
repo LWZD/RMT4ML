{
 "cells": [
  {
   "cell_type": "markdown",
   "metadata": {},
   "source": [
    "# Section 3.5 Practical course material 1: The Wasserstein covariance distance estimation\n",
    "\n",
    "This page contains simulations of Practical course material 1 in Section 3.5.\n",
    "\n",
    "## Contents\n",
    "\n",
    "    - Visualization of behavior of $x \\mapsto x m_\\mu(x)$\n",
    "    - FUNCTIONS\n",
    "    - Classical versus random matrix improved Wasserstein covariance distance estimator\n",
    "\n",
    "\n",
    "## Visualization of behavior of $x \\mapsto x m_\\mu(x)$"
   ]
  },
  {
   "cell_type": "code",
   "execution_count": 1,
   "metadata": {},
   "outputs": [],
   "source": [
    "import numpy as np\n",
    "import matplotlib.pyplot as plt\n",
    "import scipy.integrate\n",
    "import scipy.linalg\n",
    "pi = np.pi"
   ]
  },
  {
   "cell_type": "code",
   "execution_count": 2,
   "metadata": {},
   "outputs": [
    {
     "data": {
      "image/png": "[encoded data removed]",
      "text/plain": [
       "<Figure size 432x288 with 1 Axes>"
      ]
     },
     "metadata": {
      "needs_background": "light"
     },
     "output_type": "display_data"
    }
   ],
   "source": [
    "coeff = 3\n",
    "p = 100*coeff\n",
    "n1 = 300*coeff\n",
    "n2 = 900*coeff\n",
    "\n",
    "c1 = p/n1\n",
    "c2 = p/n2\n",
    "\n",
    "np.random.seed(928)\n",
    "Z1 = np.random.randn(p,n1)\n",
    "Z2 = np.random.randn(p,n2)\n",
    "\n",
    "eig_C1 = [1,2,4]\n",
    "eig_C2 = [1,3,5]\n",
    "C1 = np.diag(np.concatenate([eig_C1[0]*np.ones(p//3),eig_C1[1]*np.ones(p//3),eig_C1[2]*np.ones(p//3)]))\n",
    "C2 = np.diag(np.concatenate([eig_C2[0]*np.ones(p//3),eig_C2[1]*np.ones(p//3),eig_C2[2]*np.ones(p//3)]))\n",
    "\n",
    "X1 = scipy.linalg.sqrtm(C1)@Z1\n",
    "X2 = scipy.linalg.sqrtm(C2)@Z2\n",
    "\n",
    "SCM1 = X1@(X1.T)/n1\n",
    "SCM2 = X2@(X2.T)/n2\n",
    "\n",
    "SCM = np.linalg.solve(SCM1,SCM2)\n",
    "eigs_SCM = np.sort(np.linalg.eigh(SCM)[0])\n",
    "\n",
    "m   = lambda x : np.sum(1/(eigs_SCM-x))/p\n",
    "x_m = lambda x : x*m(x)\n",
    "\n",
    "tol1 = 1e-3\n",
    "index_eigs_SCM = 50\n",
    "zoom_eigs_SCM  = np.linspace(eigs_SCM[index_eigs_SCM-1]-tol1,eigs_SCM[index_eigs_SCM]+tol1,1000)\n",
    "\n",
    "# numerical evaluation of xi and eta\n",
    "xi  = np.linalg.eigh(np.diag(eigs_SCM) - np.sqrt(eigs_SCM).reshape(p,1)@np.sqrt(eigs_SCM).reshape(1,p)/n1)[0]\n",
    "eta = np.linalg.eigh(np.diag(eigs_SCM) - np.sqrt(eigs_SCM).reshape(p,1)@np.sqrt(eigs_SCM).reshape(1,p)/n2)[0]\n",
    "\n",
    "with np.errstate(invalid='ignore'):\n",
    "    xi  = xi[(xi<=eigs_SCM[index_eigs_SCM])*(xi>=eigs_SCM[index_eigs_SCM-1])]\n",
    "    eta = eta[(eta<=eigs_SCM[index_eigs_SCM])*(eta>=eigs_SCM[index_eigs_SCM-1])]\n",
    "    tol2 = 1e-4\n",
    "    zoom_eigs_SCM[(zoom_eigs_SCM<=eigs_SCM[index_eigs_SCM-1]+tol2)*(zoom_eigs_SCM>=eigs_SCM[index_eigs_SCM-1]-tol2)]=np.nan\n",
    "    zoom_eigs_SCM[(zoom_eigs_SCM<=eigs_SCM[index_eigs_SCM]+tol2)*(zoom_eigs_SCM>=eigs_SCM[index_eigs_SCM]-tol2)]=np.nan\n",
    "\n",
    "plt.plot(zoom_eigs_SCM, [x_m(x) for x in zoom_eigs_SCM])\n",
    "plt.axvline(x=eigs_SCM[index_eigs_SCM-1],ls='--',c='k')\n",
    "plt.axvline(x=eigs_SCM[index_eigs_SCM],ls='--',c='k')\n",
    "plt.axhline(y=0,ls='--',c='k')\n",
    "plt.axhline(y=(1-c2)/c2,ls='--',c='k')\n",
    "plt.axhline(y=(1-c1)/c1,ls='--',c='k')\n",
    "plt.axhline(y=0,ls='--',c='k')\n",
    "plt.gca().set_xlim([eigs_SCM[index_eigs_SCM-1]-tol1,eigs_SCM[index_eigs_SCM]+tol1])\n",
    "plt.gca().set_ylim([-10,10])\n",
    "\n",
    "plt.xlabel(r'$x$')\n",
    "plt.ylabel(r'$x m_{\\mu}(x)$')\n",
    "plt.plot(eigs_SCM[index_eigs_SCM-1],0,'ob')\n",
    "plt.text(eigs_SCM[index_eigs_SCM-1]+1e-5,.5,r'$\\lambda_{i-1}$')\n",
    "plt.plot(eigs_SCM[index_eigs_SCM],0,'ob')\n",
    "plt.text(eigs_SCM[index_eigs_SCM]+1e-5,.5,r'$\\lambda_{i}$')\n",
    "\n",
    "plt.plot(xi, 0,'xr')\n",
    "plt.plot(eta, 0,'^r')\n",
    "plt.text(xi-5e-4, -1.5,r'$\\xi_{i}$')\n",
    "plt.text(eta-5e-4, -1.5,r'$\\eta_{i}$')\n",
    "plt.axvline(x=xi,ls=':',c='k')\n",
    "plt.axvline(x=eta,ls=':',c='k')\n",
    "_ = plt.show()"
   ]
  },
  {
   "cell_type": "markdown",
   "metadata": {},
   "source": [
    "## FUNCTIONS\n",
    "\n",
    "Code translated from https://github.com/maliktiomoko/RMTWasserstein"
   ]
  },
  {
   "cell_type": "code",
   "execution_count": 3,
   "metadata": {},
   "outputs": [],
   "source": [
    "def RMTWassDist(X1,X2):\n",
    "#Function that compute the Wasserstein distance between Gaussian centered\n",
    "#distribution based on the article Random  Matrix-Improved  Estimation  of  the  Wasserstein  Distance\n",
    "#between  two  Centered  Gaussian  Distribution (Malik TIOMOKO & Romain COUILLET)\n",
    "#Input samples from the first class X1 of dimension p*n1 and the\n",
    "#samples from the second class X2 of size p*n2\n",
    "\n",
    "    p=np.size(X1,0)\n",
    "    n1=np.size(X1,1)\n",
    "    n2=np.size(X2,1)\n",
    "    c1=p/n1\n",
    "    c2=p/n2\n",
    "\n",
    "    #Sample covariance estimate\n",
    "    hatC1=X1@X1.T/n1\n",
    "    hatC2=X2@X2.T/n2\n",
    "    lambda_=np.sort(np.real(np.linalg.eig(hatC1@hatC2)[0]))\n",
    "\n",
    "    m= lambda z : np.mean(1/(lambda_-z))\n",
    "    phi= lambda z : z/(1-c1-c1*z*m(z))\n",
    "    psi= lambda z : 1-c2-c2*z*m(z)\n",
    "    f= lambda z : np.sqrt(z)\n",
    "\n",
    "    eta =np.sort(np.linalg.eigh(np.diag(lambda_)-(1/n1)*np.sqrt(lambda_).reshape(p,1)@np.sqrt(lambda_).reshape(1,p))[0])\n",
    "    zeta=np.sort(np.linalg.eigh(np.diag(lambda_)-(1/n2)*np.sqrt(lambda_).reshape(p,1)@np.sqrt(lambda_).reshape(1,p))[0])\n",
    "    \n",
    "    # Distinguish the case n1=n2 vesus n1!=n2\n",
    "    if n1==n2:\n",
    "        RMTDistEst=(1/p)*np.trace(hatC1+hatC2)-2*(np.sum(np.sqrt(lambda_))-np.sum(np.sqrt(zeta)))*(2*n1/p)\n",
    "    else:\n",
    "        # Distinguish the case where n1<n2 to the case where n1>n2\n",
    "        if eta[0]<zeta[0]:\n",
    "            my_eta=zeta\n",
    "            my_zeta=eta\n",
    "        else:\n",
    "            my_zeta=zeta\n",
    "            my_eta=eta\n",
    "        \n",
    "        other= lambda z : 2*np.sum(1/(z-zeta))-2*np.sum(1/(z-lambda_))\n",
    "\n",
    "        integrand_real= lambda z : 1/(2*pi)*2*f(-(phi(z)/psi(z)))*other(z)*(psi(z)/c2)\n",
    "\n",
    "        # Computing the second term (real_integral)\n",
    "        real_integral=0\n",
    "        for i in range(len(my_zeta)):\n",
    "            #xs=np.linspace(my_zeta[i],my_eta[i],1000)\n",
    "            #xs=xs[1:-1]\n",
    "            \n",
    "            real_integral+= scipy.integrate.quad(integrand_real,my_zeta[i],my_eta[i],full_output=1)[0] #np.trapz([integrand_real(z) for z in xs],x=xs)\n",
    "\n",
    "        # Computing the first term (pole in lambda)\n",
    "        pole=2*(np.sqrt(c2/c1))*np.sum(np.sqrt(lambda_))/c2\n",
    "        esty=pole+real_integral\n",
    "\n",
    "        RMTDistEst=(1/p)*np.trace(hatC1+hatC2)-2*esty\n",
    "\n",
    "\n",
    "\n",
    "    #Classical estimate\n",
    "    ClassDistEst=(1/p)*(np.trace(hatC1+hatC2)-2*np.trace(scipy.linalg.sqrtm(scipy.linalg.sqrtm(hatC1)@hatC2@scipy.linalg.sqrtm(hatC1))))\n",
    "                   \n",
    "    return RMTDistEst,ClassDistEst                   "
   ]
  },
  {
   "cell_type": "markdown",
   "metadata": {},
   "source": [
    "## Classical versus random matrix improved Wasserstein covariance distance estimator"
   ]
  },
  {
   "cell_type": "code",
   "execution_count": 4,
   "metadata": {
    "scrolled": true
   },
   "outputs": [
    {
     "name": "stdout",
     "output_type": "stream",
     "text": [
      "Performance of different estimators:\n",
      "2\t0.01103153729087758\t0.011058132377643326\t0.01174902532253852\n",
      "4\t0.01750717844739158\t0.018845516278556462\t0.020194846855777458\n",
      "8\t0.020819247631657874\t0.021927797223793344\t0.024602564639321246\n",
      "16\t0.022475896600757352\t0.021614817330009493\t0.026927627167908065\n",
      "32\t0.023304221170649942\t0.0235796497302001\t0.03413156858746131\n",
      "64\t0.023718383455595574\t0.023538895203186465\t0.04466959963534231\n",
      "128\t0.02392546459806702\t0.023716482509391047\t0.0660025636176974\n",
      "256\t0.02402900516930272\t0.02413919768842125\t0.1090167735714215\n",
      "512\t0.024080775454919875\t0.024498826828255084\t0.19542132998448647\n"
     ]
    }
   ],
   "source": [
    "p_loop = [2**(i+1) for i in range(9)]\n",
    "n1 = 1024\n",
    "n2 = 2048\n",
    "\n",
    "nb_average_loop = 10\n",
    "store_output = [] # [population distance, RMT estimator, classical estimator]\n",
    "\n",
    "for p in p_loop:\n",
    "\n",
    "    C1 = scipy.linalg.toeplitz([.2**i for i in range(p)])\n",
    "    C2 = scipy.linalg.toeplitz([.4**i for i in range(p)])\n",
    "    \n",
    "    C1_half = scipy.linalg.sqrtm(C1)\n",
    "    C2_half = scipy.linalg.sqrtm(C2)\n",
    "    C1C2_half = scipy.linalg.sqrtm( C1_half@C2@C1_half )\n",
    "    \n",
    "    tmp = np.zeros(3)\n",
    "    for j in range(nb_average_loop):\n",
    "        X1 = C1_half@np.random.randn(p,n1)\n",
    "        X2 = C2_half@np.random.randn(p,n2)\n",
    "\n",
    "        RMTDistEst,ClassDistEst = RMTWassDist(X1,X2)\n",
    "        tmp += np.array([np.trace(C1 + C2 - 2*C1C2_half)/p,RMTDistEst,ClassDistEst])/nb_average_loop\n",
    "\n",
    "    store_output.append(tmp)\n",
    "\n",
    "print('Performance of different estimators:')\n",
    "for i in range(len(p_loop)):\n",
    "    print(\"{}\\t{}\\t{}\\t{}\".format(p_loop[i],store_output[i][0],store_output[i][1],store_output[i][2]))"
   ]
  }
 ],
 "metadata": {
  "kernelspec": {
   "display_name": "Python 3",
   "language": "python",
   "name": "python3"
  },
  "language_info": {
   "codemirror_mode": {
    "name": "ipython",
    "version": 3
   },
   "file_extension": ".py",
   "mimetype": "text/x-python",
   "name": "python",
   "nbconvert_exporter": "python",
   "pygments_lexer": "ipython3",
   "version": "3.7.3"
  }
 },
 "nbformat": 4,
 "nbformat_minor": 4
}
