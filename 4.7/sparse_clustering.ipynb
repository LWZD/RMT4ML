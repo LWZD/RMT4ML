{
 "cells": [
  {
   "cell_type": "markdown",
   "metadata": {},
   "source": [
    "# Section 4.7 Practical Lecture Material 3\n",
    "\n",
    "This page contains simulations of Practical Lecture Material 3: Complexity-performance trade-off in spectral clustering with sparse kernel.\n",
    "\n",
    "## Contents\n",
    "\n",
    "    - Spectra of uniformly \"punctured\" kernel matrices\n",
    "    - Behavior of isolated eigenvector of $K$\n",
    "\n",
    "## Spectra of uniformly \"punctured\" kernel matrices"
   ]
  },
  {
   "cell_type": "code",
   "execution_count": 2,
   "metadata": {},
   "outputs": [],
   "source": [
    "import numpy as np\n",
    "import matplotlib.pyplot as plt\n",
    "import scipy.sparse.linalg\n",
    "pi = np.pi"
   ]
  },
  {
   "cell_type": "code",
   "execution_count": 11,
   "metadata": {},
   "outputs": [
    {
     "data": {
      "image/png": "[encoded data removed]",
      "text/plain": [
       "<Figure size 432x288 with 1 Axes>"
      ]
     },
     "metadata": {
      "needs_background": "light"
     },
     "output_type": "display_data"
    }
   ],
   "source": [
    "coeff = 2\n",
    "p = 256*coeff\n",
    "n = 1024*coeff\n",
    "c = p/n\n",
    "\n",
    "mu = np.concatenate([[1],np.zeros(p-1)])\n",
    "j  = np.concatenate([-np.ones(n//2),np.ones(n//2)])\n",
    "\n",
    "Z = np.random.randn(p,n)\n",
    "X = Z + np.outer(mu,j)\n",
    "\n",
    "B_eps = 0.5\n",
    "\n",
    "B = (np.random.rand(n,n)<B_eps)*1.0\n",
    "B = np.triu(B) + (np.triu(B)).T\n",
    "B = B - np.diag(np.diag(B))\n",
    "b = 0\n",
    "\n",
    "K = (X.T@X/p)*B\n",
    "eigs_K = np.linalg.eig(K)[0]\n",
    "edges  = np.linspace(np.min(eigs_K)-.1,np.max(eigs_K)+.1,100)\n",
    "\n",
    "y  = 1e-5\n",
    "zs = edges+y*1j\n",
    "dens = np.zeros(len(zs))\n",
    "\n",
    "m=0\n",
    "for index,z in enumerate(zs):\n",
    "    m_tmp=-1\n",
    "    while np.abs(m-m_tmp)>1e-6:\n",
    "        m_tmp=m\n",
    "        m = 1/( -z + b - m*B_eps/c + B_eps**3*m**2/c/(c+B_eps*m) )\n",
    "\n",
    "    dens[index]=np.imag(m)/pi\n",
    "\n",
    "plt.hist(eigs_K,bins=edges,weights=1/(edges[1]-edges[0])/n*np.ones(len(eigs_K)), label='Empirical spectrum')\n",
    "plt.plot(edges,dens,'r', label='Limiting spectrum')\n",
    "_ = plt.legend()"
   ]
  },
  {
   "cell_type": "markdown",
   "metadata": {},
   "source": [
    "## Behavior of isolated eigenvector of $K$"
   ]
  },
  {
   "cell_type": "code",
   "execution_count": 35,
   "metadata": {},
   "outputs": [
    {
     "data": {
      "image/png": "[encoded data removed]",
      "text/plain": [
       "<Figure size 432x288 with 1 Axes>"
      ]
     },
     "metadata": {
      "needs_background": "light"
     },
     "output_type": "display_data"
    }
   ],
   "source": [
    "coeff = 2\n",
    "p = 256*coeff\n",
    "n = 1024*coeff\n",
    "c = p/n\n",
    "\n",
    "mu = np.concatenate([[1],np.zeros(p-1)])\n",
    "j  = np.concatenate([-np.ones(n//2),np.ones(n//2)])\n",
    "\n",
    "B_eps = 0.5\n",
    "\n",
    "nb_average_loop  = 10\n",
    "rho_range = np.linspace(0,2,20)\n",
    "\n",
    "store_align = np.zeros( (len(rho_range),nb_average_loop) )\n",
    "theo_align  = np.zeros(len(rho_range))\n",
    "\n",
    "for index,rho in enumerate(rho_range):\n",
    "\n",
    "    mu = np.concatenate([[np.sqrt(rho)],np.zeros(p-1)])\n",
    "    for average_loop in range(nb_average_loop):\n",
    "        Z = np.random.randn(p,n)\n",
    "        X = Z + np.outer(mu,j)\n",
    "        \n",
    "        B = (np.random.rand(n,n)<B_eps)*1.0\n",
    "        B = np.triu(B) + (np.triu(B)).T\n",
    "        B = B - np.diag(np.diag(B))\n",
    "        b = 0\n",
    "\n",
    "        K = (X.T@X/p)*B\n",
    "        hat_v = scipy.sparse.linalg.eigs(K,1,which='LR')[1].reshape(n)\n",
    "\n",
    "        if j@hat_v <0:\n",
    "            hat_v = -hat_v\n",
    "\n",
    "        store_align[index,average_loop] = np.abs(j@hat_v)**2/n\n",
    "\n",
    "\n",
    "    F_coeff = [1, 2, 1-c/B_eps, -2*c, -c]\n",
    "    F = lambda x : np.polyval(F_coeff,x)\n",
    "    solu = np.roots(F_coeff)\n",
    "    real_solu = np.real(solu[np.abs(np.imag(solu))<1e-4])\n",
    "    Gamma = max(real_solu)\n",
    "\n",
    "    if rho>Gamma:\n",
    "        theo_align[index] = F(rho)/rho/(1+rho)**3\n",
    "    else:\n",
    "        theo_align[index] = 0\n",
    "\n",
    "plt.plot(rho_range, np.mean(store_align,1),'o')\n",
    "plt.plot(rho_range, theo_align)\n",
    "plt.xlabel(r'$\\rho$')\n",
    "plt.ylabel(r'$|\\hat{v}^T j|^2/n$')\n",
    "_ = plt.show"
   ]
  }
 ],
 "metadata": {
  "kernelspec": {
   "display_name": "Python 3",
   "language": "python",
   "name": "python3"
  },
  "language_info": {
   "codemirror_mode": {
    "name": "ipython",
    "version": 3
   },
   "file_extension": ".py",
   "mimetype": "text/x-python",
   "name": "python",
   "nbconvert_exporter": "python",
   "pygments_lexer": "ipython3",
   "version": "3.9.1"
  }
 },
 "nbformat": 4,
 "nbformat_minor": 4
}
