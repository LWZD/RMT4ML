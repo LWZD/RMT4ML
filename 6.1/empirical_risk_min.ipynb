{
 "cells": [
  {
   "cell_type": "markdown",
   "metadata": {},
   "source": [
    "# Section 6.1: Generalized linear classifier\n",
    "\n",
    "This page contains simulations in Section 6.1.\n",
    "\n",
    "## Contents\n",
    "\n",
    "    - FUNCTIONS\n",
    "    - Histogram of $\\beta_{-i}^T \\tilde x_i$ versus the limiting Gaussian behavior\n",
    "    - Comparison of expectation of $\\beta$ to the optimal Bayes solution $\\beta_*$\n"
   ]
  },
  {
   "cell_type": "code",
   "execution_count": 1,
   "metadata": {},
   "outputs": [],
   "source": [
    "import numpy as np\n",
    "import matplotlib.pyplot as plt\n",
    "import scipy.linalg\n",
    "import scipy.optimize\n",
    "import scipy.stats\n",
    "pi = np.pi"
   ]
  },
  {
   "cell_type": "markdown",
   "metadata": {},
   "source": [
    "## FUNCTIONS"
   ]
  },
  {
   "cell_type": "code",
   "execution_count": 2,
   "metadata": {},
   "outputs": [],
   "source": [
    "def f(beta,X,gamma,loss_type):\n",
    "\n",
    "    if loss_type == 'quadratic':\n",
    "        L   = lambda t : (t-1)**2\n",
    "        Lp  = lambda t : 2*(t-1)\n",
    "    if loss_type == 'logistic':\n",
    "        L   = lambda t : np.log(1+np.exp(-t))\n",
    "        Lp  = lambda t : -1/(1+np.exp(t))\n",
    "    if loss_type == 'exp':\n",
    "        L   = lambda t : np.exp(-t)\n",
    "        Lp  = lambda t : -np.exp(-t)\n",
    "    if loss_type == 'hinge':\n",
    "        L   = lambda t : np.maximum(0,1-t)\n",
    "        Lp  = lambda t : t<=0\n",
    "\n",
    "    n = np.shape(X)[1]\n",
    "    loss = np.sum(L(beta.T@X))/n + gamma*np.linalg.norm(beta)**2/2\n",
    "    grad = X@Lp(X.T@beta)/n + gamma*beta\n",
    "\n",
    "    return loss,grad\n",
    "\n",
    "def grad_descent(f, beta0, step, plot_loss):\n",
    "    Tol = 1e-5  # tolerance\n",
    "    MaxIter = 50000  # maximum number of iterations\n",
    "    Dxmin = 1e-5  # minimum allowed perturbation\n",
    "\n",
    "    gnorm  = np.inf \n",
    "    beta   = beta0\n",
    "    nIter  = 0\n",
    "    d_beta = np.inf\n",
    "\n",
    "# gradient descent algorithm\n",
    "    while (gnorm>=Tol and nIter <= MaxIter and d_beta >= Dxmin):\n",
    "        loss,g = f(beta)\n",
    "        gnorm  = np.linalg.norm(g)\n",
    "        beta_new = beta - step*g\n",
    "        \n",
    "        # update termination metrics\n",
    "        nIter += 1\n",
    "        d_beta = np.linalg.norm(beta_new-beta)\n",
    "        beta   = beta_new.copy()\n",
    "\n",
    "        if plot_loss == 'yes':\n",
    "            if np.mod(nIter,500)==0:\n",
    "                print('Iteration {} | Cost: {}\\r'.format(nIter, loss))\n",
    "\n",
    "    beta_opt = beta\n",
    "    f_opt = f(beta_opt)\n",
    "            \n",
    "    return beta_opt,f_opt"
   ]
  },
  {
   "cell_type": "markdown",
   "metadata": {},
   "source": [
    "## Histogram of $\\beta_{-i}^T \\tilde x_i$ versus the limiting Gaussian behavior"
   ]
  },
  {
   "cell_type": "code",
   "execution_count": 3,
   "metadata": {},
   "outputs": [
    {
     "data": {
      "image/png": "[encoded data removed]",
      "text/plain": [
       "<Figure size 432x288 with 1 Axes>"
      ]
     },
     "metadata": {
      "needs_background": "light"
     },
     "output_type": "display_data"
    }
   ],
   "source": [
    "coeff = 1\n",
    "p = 256*coeff\n",
    "n = 1024*coeff\n",
    "\n",
    "loss_type = 'logistic' # among 'quadratic', 'logistic' and 'exp'\n",
    "gamma = 0.1            # regularization\n",
    "\n",
    "if loss_type == 'quadratic':\n",
    "    L   = lambda t : (t-1)**2\n",
    "    Lp  = lambda t : 2*(t-1)\n",
    "    Lpp = lambda t : 2\n",
    "if loss_type == 'logistic':\n",
    "    L   = lambda t : np.log(1+np.exp(-t))\n",
    "    Lp  = lambda t : -1/(1+np.exp(t))\n",
    "    Lpp = lambda t : np.exp(t)/((1+np.exp(t))**2)\n",
    "if loss_type == 'exp':\n",
    "    L   = lambda t : np.exp(-t)\n",
    "    Lp  = lambda t : -np.exp(-t)\n",
    "    Lpp = lambda t : np.exp(-t)\n",
    "\n",
    "mu = np.ones(p)/np.sqrt(p)\n",
    "C  = np.diag(np.concatenate([np.ones(p//4),3*np.ones(p//4),5*np.ones(p//2)]))\n",
    "eigs_C = np.diag(C)\n",
    "\n",
    "X = np.outer(mu,np.ones(n)) + scipy.linalg.sqrtm(C)@np.random.randn(p,n)\n",
    "beta0 = np.random.randn(p)/np.sqrt(p) # random initialization of grandient descent to solve ERM\n",
    "step = 1e-3\n",
    "beta_opt = grad_descent( lambda beta : f(beta,X,gamma,loss_type), beta0, step, 'no')[0]\n",
    "\n",
    "estim_delta = 1\n",
    "tmp_delta = 0\n",
    "while np.abs(estim_delta - tmp_delta) > 1e-6:\n",
    "    tmp_delta = estim_delta\n",
    "    tmp = np.mean(Lpp(beta_opt.T@X)/(1+estim_delta*Lpp(beta_opt.T@X)))\n",
    "    estim_delta = np.sum( eigs_C/( tmp*eigs_C+gamma) )/n\n",
    "\n",
    "r = beta_opt.T@X + estim_delta*Lp(beta_opt.T@X)\n",
    "estim_M = np.mean(r)\n",
    "estim_sigma2 = np.var(r) # Using empirical estimation as initialization of fixed-point equations\n",
    "\n",
    "\n",
    "param = np.array([estim_M,np.sqrt(estim_sigma2),estim_delta]) #param[0]=M, param[1]=sqrt(sigma2), param[2]=delta\n",
    "param_tmp = np.zeros(3)\n",
    "\n",
    "nb_average = 1000\n",
    "z = np.random.randn(nb_average)\n",
    "\n",
    "while np.min(np.abs(param - param_tmp)) > 1e-6:\n",
    "    param_tmp = param.copy()\n",
    "\n",
    "    M = param[0]\n",
    "    sigma = param[1]\n",
    "    delta = param[2]\n",
    "\n",
    "    r = M+sigma*z\n",
    "    prox_r0 = np.random.randn(len(r))\n",
    "\n",
    "    find_prox_r = lambda x : delta*Lp(x)+x-r\n",
    "    prox_r = scipy.optimize.fsolve(find_prox_r, prox_r0) # numerically find the prox\n",
    "    f_r = -Lp(prox_r)\n",
    "    #f_r = (prox_r-r)/delta\n",
    "\n",
    "    tmp_delta = 0  # fixed-point iteration to determine delta\n",
    "    while np.abs(delta - tmp_delta) > 1e-5:\n",
    "        tmp_delta = delta\n",
    "        tmp = np.mean(Lpp(prox_r)/(1+delta*Lpp(prox_r)))\n",
    "        delta = np.sum( eigs_C/( tmp*eigs_C+gamma) )/n\n",
    "\n",
    "    E_f_p = -np.mean(f_r*z)/sigma\n",
    "    E_f   =  np.mean(f_r)\n",
    "    E_f2  =  np.mean(f_r**2)\n",
    "\n",
    "    inv_shortcut = np.linalg.solve(E_f_p*C+gamma*np.eye(p),mu)\n",
    "    M = E_f*mu.T@inv_shortcut\n",
    "    sigma2 = E_f**2*inv_shortcut.T@C@inv_shortcut + E_f2*np.linalg.norm(np.linalg.solve(E_f_p*C+gamma*np.eye(p),C),ord='fro')**2/n\n",
    "\n",
    "    param = np.array([M,np.sqrt(sigma2),delta])\n",
    "\n",
    "# compare to leave-one-out empirical results\n",
    "store_r = np.zeros(n)\n",
    "for i in range(n):\n",
    "    xi  = X[:,i]\n",
    "    X_i = np.concatenate([X[:,:i],X[:,i+1:]],axis=1)\n",
    "\n",
    "    beta0  = np.random.randn(p)/np.sqrt(p)\n",
    "    step   = 1e-3\n",
    "    beta_i = grad_descent( lambda beta : f(beta,X_i,gamma,loss_type),beta0, step, 'no')[0]\n",
    "\n",
    "    store_r[i] = beta_i.T@xi\n",
    "\n",
    "xs = np.linspace(M-3*sigma,M+3*sigma,100)\n",
    "\n",
    "plt.hist(store_r,bins=xs,weights=1/(xs[1]-xs[0])/n*np.ones(n),label=r'Histogram of $\\beta_{-i}^T \\tilde{x}_i$')\n",
    "plt.plot(xs,[scipy.stats.norm.pdf(x,loc=M,scale=sigma) for x in xs],'r',label=r'$\\mathcal{N}(M,\\sigma^2)$')\n",
    "_ = plt.legend()"
   ]
  },
  {
   "cell_type": "markdown",
   "metadata": {},
   "source": [
    "## Comparison of expectation of $\\beta$ to the optimal Bayes solution $\\beta_*$"
   ]
  },
  {
   "cell_type": "code",
   "execution_count": 4,
   "metadata": {},
   "outputs": [
    {
     "data": {
      "image/png": "[encoded data removed]",
      "text/plain": [
       "<Figure size 432x288 with 1 Axes>"
      ]
     },
     "metadata": {
      "needs_background": "light"
     },
     "output_type": "display_data"
    }
   ],
   "source": [
    "coeff = 1\n",
    "p = 64*coeff\n",
    "n = 512*coeff\n",
    "\n",
    "loss_type = 'logistic' # among 'quadratic', 'logistic' and 'exp'\n",
    "gamma = 0              # unregularized case!\n",
    "\n",
    "if loss_type == 'quadratic':\n",
    "    L   = lambda t : (t-1)**2\n",
    "    Lp  = lambda t : 2*(t-1)\n",
    "    Lpp = lambda t : 2\n",
    "if loss_type == 'logistic':\n",
    "    L   = lambda t : np.log(1+np.exp(-t))\n",
    "    Lp  = lambda t : -1/(1+np.exp(t))\n",
    "    Lpp = lambda t : np.exp(t)/((1+np.exp(t))**2)\n",
    "if loss_type == 'exp':\n",
    "    L   = lambda t : np.exp(-t)\n",
    "    Lp  = lambda t : -np.exp(-t)\n",
    "    Lpp = lambda t : np.exp(-t)\n",
    "\n",
    "mu = np.concatenate([np.ones(p//4),-np.ones(p//4),3/4*np.ones(p//2)])/np.sqrt(p)\n",
    "C  = 2*np.eye(p)\n",
    "eigs_C = np.diag(C)\n",
    "    \n",
    "beta_store = np.zeros(p)\n",
    "rescale_beta_store = np.zeros(p)\n",
    "\n",
    "nb_average=500\n",
    "for i in range(nb_average):\n",
    "    X = np.outer(mu,np.ones(n)) + scipy.linalg.sqrtm(C)@np.random.randn(p,n)\n",
    "    \n",
    "    beta0 = np.random.randn(p)/np.sqrt(p) # random initialization of grandient descent to solve ERM\n",
    "    \n",
    "    step = 1e-3\n",
    "    beta_opt = grad_descent( lambda beta : f(beta,X,gamma,loss_type), beta0, step, 'no')[0]\n",
    "\n",
    "    estim_delta = 1\n",
    "    tmp_delta = 0\n",
    "    while np.abs(estim_delta - tmp_delta) > 1e-6:\n",
    "        tmp_delta = estim_delta\n",
    "        tmp = np.mean(Lpp(beta_opt.T@X)/(1+estim_delta*Lpp(beta_opt.T@X)))\n",
    "        estim_delta = np.sum( eigs_C/( tmp*eigs_C+gamma) )/n\n",
    "\n",
    "    r = beta_opt.T@X + estim_delta*Lp(beta_opt.T@X)\n",
    "    estim_E_f = np.mean(-Lp(beta_opt.T@X))\n",
    "    estim_E_f_p = np.mean(Lp(beta_opt.T@X)*(r-np.mean(r))/np.var(r))\n",
    "    \n",
    "    beta_store += beta_opt/nb_average\n",
    "    rescale_beta_store += 2*estim_E_f_p/estim_E_f*beta_opt/nb_average\n",
    "\n",
    "plt.plot(beta_store,'x',label=r'Averaged $\\beta$')\n",
    "beta_star = np.linalg.solve(C,mu)*2\n",
    "plt.plot(beta_star,label=r'$\\beta_*$')\n",
    "plt.plot(rescale_beta_store,'o',label=r'Rescaled $\\beta$')\n",
    "_ = plt.legend()\n"
   ]
  }
 ],
 "metadata": {
  "kernelspec": {
   "display_name": "Python 3",
   "language": "python",
   "name": "python3"
  },
  "language_info": {
   "codemirror_mode": {
    "name": "ipython",
    "version": 3
   },
   "file_extension": ".py",
   "mimetype": "text/x-python",
   "name": "python",
   "nbconvert_exporter": "python",
   "pygments_lexer": "ipython3",
   "version": "3.7.3"
  }
 },
 "nbformat": 4,
 "nbformat_minor": 4
}
