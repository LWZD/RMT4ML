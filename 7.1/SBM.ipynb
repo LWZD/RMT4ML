{
 "cells": [
  {
   "cell_type": "markdown",
   "metadata": {},
   "source": [
    "# Section 7.1.1: The stochastic block model\n",
    "\n",
    "This page contains simulations in Section 7.1.1.\n",
    "\n",
    "## Contents\n",
    "\n",
    "    - Classification accuracy of a $2$-class symmetric SBM\n",
    "\n",
    "\n",
    "## Classification accuracy of a $2$-class symmetric SBM\n"
   ]
  },
  {
   "cell_type": "code",
   "execution_count": 1,
   "metadata": {},
   "outputs": [],
   "source": [
    "import numpy as np\n",
    "import scipy.sparse.linalg\n",
    "import scipy.special\n",
    "import matplotlib.pyplot as plt\n",
    "pi = np.pi\n",
    "\n",
    "qfunc = lambda x : 0.5 - 0.5*scipy.special.erf(x/np.sqrt(2))"
   ]
  },
  {
   "cell_type": "code",
   "execution_count": 2,
   "metadata": {},
   "outputs": [
    {
     "data": {
      "image/png": "[encoded data removed]",
      "text/plain": [
       "<Figure size 432x288 with 1 Axes>"
      ]
     },
     "metadata": {
      "needs_background": "light"
     },
     "output_type": "display_data"
    }
   ],
   "source": [
    "n = 512\n",
    "pout=.4\n",
    "range_pin = pout + np.linspace(.5,2.5,30)*(2*np.sqrt(pout*(1-pout))/np.sqrt(n))\n",
    "\n",
    "cs = [1/2,1/2]\n",
    "k = len(cs)\n",
    "\n",
    "loops = 100\n",
    "classif_emp  = np.zeros( (len(range_pin),loops) )\n",
    "classif_theo = np.zeros(len(range_pin))\n",
    "\n",
    "for i,pin in enumerate(range_pin):\n",
    "    for loop in range(loops):\n",
    "        A11 = np.random.binomial(1,pin,(int(n*cs[0]),int(n*cs[0])))\n",
    "        A11 = np.tril(A11,-1)+np.tril(A11,-1).T\n",
    "        A22 = np.random.binomial(1,pin,(int(n*cs[1]),int(n*cs[1])))\n",
    "        A22 = np.tril(A22,-1)+np.tril(A22,-1).T\n",
    "        A12 = np.random.binomial(1,pout,(int(n*cs[0]),int(n*cs[1])))\n",
    "\n",
    "        A = np.concatenate([np.concatenate([A11,A12]),np.concatenate([A12.T,A22])],1)\n",
    "        A = A - np.diag(np.diag(A))\n",
    "        d = np.sum(A,axis=1)\n",
    "\n",
    "        B = 1/np.sqrt(pout*(1-pout)*n)*(A-np.outer(d,d)/np.sum(d)) # slightly different from the notation in the book\n",
    "\n",
    "        u = scipy.sparse.linalg.eigs(B,1)[1].reshape(n)\n",
    "        classif_emp[i,loop] = np.max([np.sum(u[:int(cs[0]*n)]>0)+np.sum(u[int(cs[0]*n):]<0),np.sum(u[:int(cs[0]*n)]<0)+np.sum(u[int(cs[0]*n):]>0)])/n\n",
    "\n",
    "    if np.abs(pin-pout)> 2*np.sqrt(pout*(1-pout)/n):\n",
    "        classif_theo[i] = 1 - qfunc(np.sqrt( n*(pin-pout)**2/4/pout/(1-pout) - 1))\n",
    "    else:\n",
    "        classif_theo[i] = .5\n",
    "\n",
    "range_dif = np.sqrt(n)*(range_pin-pout)/2/np.sqrt(pout*(1-pout))\n",
    "\n",
    "plt.errorbar(range_dif, np.mean(classif_emp,1), np.std(classif_emp,1))\n",
    "plt.plot(range_dif,classif_theo)\n",
    "plt.gca().set_xlim([np.min(range_dif),np.max(range_dif)])\n",
    "plt.gca().set_ylim([.5,1])\n",
    "plt.xlabel(r'$(\\sqrt{n}(p_{\\rm in}-p_{\\rm out}))/(2\\sqrt{p_{\\rm out}(1-p_{\\rm out})})$')\n",
    "plt.ylabel(r'Classification accuracy')\n",
    "_ = plt.show()"
   ]
  }
 ],
 "metadata": {
  "kernelspec": {
   "display_name": "Python 3",
   "language": "python",
   "name": "python3"
  },
  "language_info": {
   "codemirror_mode": {
    "name": "ipython",
    "version": 3
   },
   "file_extension": ".py",
   "mimetype": "text/x-python",
   "name": "python",
   "nbconvert_exporter": "python",
   "pygments_lexer": "ipython3",
   "version": "3.7.3"
  }
 },
 "nbformat": 4,
 "nbformat_minor": 4
}
