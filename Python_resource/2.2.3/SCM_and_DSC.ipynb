{
 "cells": [
  {
   "cell_type": "markdown",
   "metadata": {},
   "source": [
    "# Section 2.2.3: Large dimensional sample covariance matrices and deformed semi-circles\n",
    "\n",
    "This page contains simulations in Section 2.2.3.\n",
    "\n",
    "## Contents\n",
    "\n",
    "    - Large dimensional sample covariance matrix (Theorem 2.5)\n",
    "    - The bi-correlated model (Theorem 2.6)\n",
    "    - Sample covariance of $k$-class mixture models (Theorem 2.7)\n",
    "    - The deformed semi-circle law (Theorem 2.8)\n",
    "\n",
    "## Large dimensional sample covariance matrix (Theorem 2.5)\n",
    "\n",
    "Generate a (Gaussian i.i.d.) random matrix $Z$ of dimension $p \\times n$ Generate the associated data matrix "
   ]
  },
  {
   "cell_type": "code",
   "execution_count": 53,
   "metadata": {},
   "outputs": [],
   "source": [
    "import numpy as np\n",
    "import scipy.linalg\n",
    "import matplotlib.pyplot as plt\n",
    "pi = np.pi"
   ]
  },
  {
   "cell_type": "code",
   "execution_count": 54,
   "metadata": {},
   "outputs": [],
   "source": [
    "coeff = 3\n",
    "p = 100*coeff\n",
    "n = 1000*coeff\n",
    "c = p/n\n",
    "\n",
    "eigs_C = np.concatenate([np.ones(p//3),3*np.ones(p//3),7*np.ones(p//3)]) #eigs_C = [1,..,3,...,5...]\n",
    "C = np.mat(np.diag(eigs_C)) # population covariance\n",
    "\n",
    "np.random.seed(928)\n",
    "Z = np.mat(np.random.randn(p,n))\n",
    "X = scipy.linalg.sqrtm(C)*Z"
   ]
  },
  {
   "cell_type": "markdown",
   "metadata": {},
   "source": [
    "Empirical eigenvalues of the sample covariance matrix $\\frac1n X X^T = \\frac1n C^{\\frac12} Z Z^T C ^{\\frac12}$ versus the solution of fixed-point equation in Theorem 2.5"
   ]
  },
  {
   "cell_type": "code",
   "execution_count": 58,
   "metadata": {},
   "outputs": [
    {
     "data": {
      "image/png": "[encoded data removed]",
      "text/plain": [
       "<Figure size 432x288 with 1 Axes>"
      ]
     },
     "metadata": {
      "needs_background": "light"
     },
     "output_type": "display_data"
    }
   ],
   "source": [
    "Tol = 1e-1\n",
    "SCM = X@X.T/n\n",
    "eigs_SCM = np.linalg.eig(SCM)[0]\n",
    "edges    = np.linspace(np.min(eigs_SCM)-Tol,np.max(eigs_SCM)+Tol,60)\n",
    "edges_mu = np.linspace(np.min(eigs_SCM)+Tol,np.max(eigs_SCM)+Tol,200)\n",
    "\n",
    "y = 1e-5\n",
    "zs = edges_mu+y*1j\n",
    "mu = []\n",
    "\n",
    "tilde_m=0\n",
    "for z in zs:\n",
    "\n",
    "    tilde_m_tmp=-1\n",
    "    while abs(tilde_m-tilde_m_tmp)>1e-6:\n",
    "        tilde_m_tmp=tilde_m\n",
    "        tilde_m = 1/( -z + 1/n*np.sum(eigs_C/(1+tilde_m*eigs_C)) )\n",
    "\n",
    "    m = tilde_m/c+(1-c)/(c*z)\n",
    "    mu.append(np.imag(m)/pi)\n",
    "\n",
    "plt.hist(eigs_SCM,bins=edges,weights=1/p/(edges[1]-edges[0])*np.ones(p),label='Empirical spectrum')\n",
    "plt.plot(edges_mu,mu,'r',label='Theorem 2.5')\n",
    "_ = plt.legend()"
   ]
  }
 ],
 "metadata": {
  "kernelspec": {
   "display_name": "Python 3",
   "language": "python",
   "name": "python3"
  },
  "language_info": {
   "codemirror_mode": {
    "name": "ipython",
    "version": 3
   },
   "file_extension": ".py",
   "mimetype": "text/x-python",
   "name": "python",
   "nbconvert_exporter": "python",
   "pygments_lexer": "ipython3",
   "version": "3.8.6"
  }
 },
 "nbformat": 4,
 "nbformat_minor": 4
}
