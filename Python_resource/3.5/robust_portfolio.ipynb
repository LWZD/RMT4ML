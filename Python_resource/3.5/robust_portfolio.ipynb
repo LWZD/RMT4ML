{
 "cells": [
  {
   "cell_type": "markdown",
   "metadata": {},
   "source": [
    "# Section 3.5 Practical course material 2: Robust portfolio optimization via Tyler estimator\n",
    "\n",
    "This page contains simulations in Section 3.5 Practical course material 2\n",
    "\n",
    "## Contents\n",
    "\n",
    "    - Random equivalent asymptotics between $\\hat C$ and $\\hat S$\n",
    "    - Portfolio risk, the asymptotic approximation $\\sigma^2(\\gamma)$, and the estimate $\\hat \\sigma^2(\\gamma)$ versus the regularization $\\gamma$\n",
    "\n",
    "## Random equivalent asymptotics between $\\hat C$ and $\\hat S$"
   ]
  },
  {
   "cell_type": "code",
   "execution_count": 1,
   "metadata": {},
   "outputs": [],
   "source": [
    "import numpy as np\n",
    "import matplotlib.pyplot as plt\n",
    "import scipy.linalg\n",
    "pi = np.pi"
   ]
  },
  {
   "cell_type": "code",
   "execution_count": 7,
   "metadata": {},
   "outputs": [
    {
     "data": {
      "image/png": "[encoded data removed]",
      "text/plain": [
       "<Figure size 432x288 with 2 Axes>"
      ]
     },
     "metadata": {
      "needs_background": "light"
     },
     "output_type": "display_data"
    }
   ],
   "source": [
    "coeff = 5\n",
    "p = 100*coeff\n",
    "n = 500*coeff\n",
    "c = p/n\n",
    "\n",
    "np.random.seed(928)\n",
    "eigs_C = np.concatenate([np.ones(p//4),3*np.ones(p//4),10*np.ones(p//2)])\n",
    "C = np.diag(eigs_C) # population covariance\n",
    "tau = np.random.gamma(.5,2,n)\n",
    "\n",
    "Z = np.random.randn(p,n)\n",
    "C_half = scipy.linalg.sqrtm(C)\n",
    "X = C_half@Z@np.diag(np.sqrt(tau))\n",
    "\n",
    "gamma = 0.5\n",
    "if (gamma <= np.max([0,1-1/c]) or gamma >1):\n",
    "    print('Error: wrong regularization gamma!')\n",
    "\n",
    "hat_C_tmp = np.eye(p)\n",
    "hat_C = np.eye(p)/2\n",
    "while np.linalg.norm(hat_C-hat_C_tmp,2)/np.linalg.norm(hat_C,2)>1e-3:\n",
    "    hat_C_tmp = hat_C\n",
    "    hat_C = (1-gamma)*X@np.diag(1/np.diag(X.T@np.linalg.solve(hat_C,X)/p))@(X.T)/n + gamma*np.eye(p)\n",
    "\n",
    "eigs_hat_C = np.linalg.eig(hat_C)[0]\n",
    "\n",
    "delta = 1\n",
    "delta_tmp = 0\n",
    "while np.abs(delta-delta_tmp)>1e-6:\n",
    "    delta_tmp = delta\n",
    "    delta = np.mean( eigs_C/( (1-gamma)/delta*eigs_C + gamma ) )\n",
    "\n",
    "hat_S = (1-gamma)/( 1-(1-gamma)*c )/delta*C_half@(Z@Z.T)@C_half/n + gamma*np.eye(p)\n",
    "eigs_hat_S = np.linalg.eig(hat_S)[0]\n",
    "\n",
    "edges=np.linspace(np.min(eigs_hat_C)-.5,np.max(eigs_hat_C)+.5,100)\n",
    "plt.subplot(1,2,1)\n",
    "plt.hist(eigs_hat_C,bins=edges,weights=1/p/(edges[1]-edges[0])*np.ones(len(eigs_hat_C)),label=r'Empirical eigs of $\\hat C$')\n",
    "_ = plt.legend()\n",
    "\n",
    "plt.subplot(1,2,2)\n",
    "plt.hist(eigs_hat_S,bins=edges,weights=1/p/(edges[1]-edges[0])*np.ones(len(eigs_hat_S)),label=r'Empirical eigs of $\\hat S$')\n",
    "_ = plt.legend()"
   ]
  },
  {
   "cell_type": "markdown",
   "metadata": {},
   "source": [
    "## Portfolio risk, the asymptotic approximation $\\sigma^2(\\gamma)$, and the estimate $\\hat \\sigma^2(\\gamma)$ versus the regularization $\\gamma$"
   ]
  },
  {
   "cell_type": "code",
   "execution_count": 46,
   "metadata": {
    "scrolled": false
   },
   "outputs": [
    {
     "data": {
      "image/png": "[encoded data removed]",
      "text/plain": [
       "<Figure size 432x288 with 1 Axes>"
      ]
     },
     "metadata": {
      "needs_background": "light"
     },
     "output_type": "display_data"
    }
   ],
   "source": [
    "coeff = 1\n",
    "p = 256*coeff\n",
    "n = 512*coeff\n",
    "c = p/n\n",
    "\n",
    "np.random.seed(928)\n",
    "u = (.5+ np.random.rand(p,1))/np.sqrt(p)\n",
    "C = 5*u@u.T + np.eye(p)\n",
    "eigs_C = np.linalg.eigh(C)[0]\n",
    "\n",
    "gamma_loop = np.arange(0.05,1,0.05)\n",
    "nb_average_loop = 50\n",
    "\n",
    "store_output = []\n",
    "for gamma in gamma_loop:\n",
    "\n",
    "    if (gamma <= np.max([0,1-1/c]) or gamma >1):\n",
    "        print('Error: wrong regularization gamma!')\n",
    "\n",
    "    tmp = np.zeros( (1,3) )\n",
    "    for average_loop in range(nb_average_loop):\n",
    "        nu_student = 100 # degrees of freedom nu of Student's t distribution\n",
    "        Z = np.random.standard_t(nu_student,(p,n))/np.sqrt(nu_student/(nu_student-2))\n",
    "\n",
    "        d = 3\n",
    "        tau = np.random.chisquare(d,n)/d\n",
    "\n",
    "        C_half=scipy.linalg.sqrtm(C)\n",
    "        X = C_half@Z@np.diag(np.sqrt(tau))\n",
    "\n",
    "        hat_C_tmp = np.eye(p)\n",
    "        hat_C = np.eye(p)/2\n",
    "        while np.linalg.norm(hat_C-hat_C_tmp,2)/np.linalg.norm(hat_C,2)>1e-4:\n",
    "            hat_C_tmp = hat_C\n",
    "            hat_C = (1-gamma)*X@np.diag(1/np.diag(X.T@np.linalg.solve(hat_C,X)/p))@X.T/n + gamma*np.eye(p)\n",
    "\n",
    "        eigs_hat_C = np.real(np.linalg.eigh(hat_C)[0])\n",
    "\n",
    "        delta = 1\n",
    "        delta_tmp = 0\n",
    "        while np.abs(delta-delta_tmp)>1e-6:\n",
    "            delta_tmp = delta\n",
    "\n",
    "            delta = np.mean( eigs_C/( (1-gamma)/delta*eigs_C + gamma ) )\n",
    "\n",
    "        hat_S = (1-gamma)/( 1-(1-gamma)*c )/delta*C_half@(Z@Z.T)@C_half/n + gamma*np.eye(p)\n",
    "        eigs_hat_S = np.real(np.linalg.eigh(hat_S)[0])\n",
    "\n",
    "        inv_hat_C_1 = np.linalg.solve(hat_C,np.ones(p))\n",
    "        inv_hat_C_X = np.linalg.solve(hat_C,X)\n",
    "        risk = inv_hat_C_1.T@C@inv_hat_C_1/np.sum(inv_hat_C_1)**2\n",
    "\n",
    "        beta = np.mean( eigs_C**2/( (1-gamma)/delta*eigs_C + gamma )**2 )\n",
    "        inv_eq_hat_C_1 = np.linalg.solve((1-gamma)/delta*C + gamma*np.eye(p),np.ones(p))\n",
    "        sigma2 = delta**2/(delta**2-c*beta*(1-gamma)**2)*(inv_eq_hat_C_1.T@C@inv_eq_hat_C_1)/np.sum(inv_eq_hat_C_1)**2\n",
    "\n",
    "        hat_delta = np.mean( np.diag(X.T@inv_hat_C_X)/np.diag(X.T@X) )/(1-(1-gamma)*c)\n",
    "        hat_sigma2 = hat_delta/(1-gamma-(1-gamma)**2*c)*(inv_hat_C_1.T@(hat_C - gamma*np.eye(p))@inv_hat_C_1)/np.sum(inv_hat_C_1)**2\n",
    "\n",
    "        tmp+= np.real(np.array([risk, sigma2, hat_sigma2*np.mean(eigs_C)]))/nb_average_loop\n",
    "\n",
    "    store_output.append(tmp)\n",
    "\n",
    "plt.plot(gamma_loop,[store_output[i][0][0] for i in range(len(gamma_loop))],'k--',label='Risk')\n",
    "plt.plot(gamma_loop,[store_output[i][0][1] for i in range(len(gamma_loop))],'ro',label=r'Asymptotic approx $\\sigma^2$')\n",
    "plt.plot(gamma_loop,[store_output[i][0][2] for i in range(len(gamma_loop))],'bx',label=r'Proposed estimator $\\frac{1}{p} tr(C) \\cdot \\hat \\sigma^2$')\n",
    "_ = plt.legend()"
   ]
  },
  {
   "cell_type": "code",
   "execution_count": null,
   "metadata": {},
   "outputs": [],
   "source": []
  }
 ],
 "metadata": {
  "kernelspec": {
   "display_name": "Python 3",
   "language": "python",
   "name": "python3"
  },
  "language_info": {
   "codemirror_mode": {
    "name": "ipython",
    "version": 3
   },
   "file_extension": ".py",
   "mimetype": "text/x-python",
   "name": "python",
   "nbconvert_exporter": "python",
   "pygments_lexer": "ipython3",
   "version": "3.8.6"
  }
 },
 "nbformat": 4,
 "nbformat_minor": 4
}
