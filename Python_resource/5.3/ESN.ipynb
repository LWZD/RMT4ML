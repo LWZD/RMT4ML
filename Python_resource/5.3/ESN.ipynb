{
 "cells": [
  {
   "cell_type": "markdown",
   "metadata": {},
   "source": [
    "# Section 5.3: Recurrent neural nets: echo-state networks (ESNs)\n",
    "\n",
    "This page contains simulations in Section 5.3.\n",
    "\n",
    "## Contents\n",
    "\n",
    "    - Memory curve for block Haar $W$\n",
    "    - Illustration of $\\mathcal{R}$ for non-symmetric and (Wigner) symmetric Gaussian $W$\n",
    "    - FUNCTIONS\n",
    "\n",
    "\n",
    "## Memory curve for block Haar $W$\n"
   ]
  },
  {
   "cell_type": "code",
   "execution_count": 6,
   "metadata": {},
   "outputs": [],
   "source": [
    "import numpy as np\n",
    "import matplotlib.pyplot as plt\n",
    "import scipy.sparse.linalg\n",
    "import scipy.linalg"
   ]
  },
  {
   "cell_type": "code",
   "execution_count": 4,
   "metadata": {},
   "outputs": [
    {
     "data": {
      "image/png": "[encoded data removed]",
      "text/plain": [
       "<Figure size 432x288 with 1 Axes>"
      ]
     },
     "metadata": {
      "needs_background": "light"
     },
     "output_type": "display_data"
    }
   ],
   "source": [
    "c = .75\n",
    "c1 = 0.01\n",
    "alpha1 = 0.99\n",
    "c2 = 0.1\n",
    "alpha2 = 0.9\n",
    "c3 = 0.89\n",
    "alpha3 = 0.5\n",
    "\n",
    "taus = np.linspace(1,30,30)\n",
    "MC_multip = ( c1*alpha1**(2*taus) + c2*alpha2**(2*taus) + c3*alpha3**(2*taus) )/( c1/(1-alpha1**2) + c2/(1-alpha2**2) + c3/(1-alpha3**2) )/(1-c)\n",
    "MC1 = ( alpha1**(2*taus)*(1-alpha1**2) )/(1-c)\n",
    "MC2 = ( alpha2**(2*taus)*(1-alpha2**2) )/(1-c)\n",
    "MC3 = ( alpha3**(2*taus)*(1-alpha3**2) )/(1-c)\n",
    "\n",
    "\n",
    "plt.semilogy(taus, MC_multip, 'r',label=r'$MC(\\tau;W)$')\n",
    "plt.semilogy(taus, MC1, 'b--',label=r'$MC(\\tau;W_1^+)$')\n",
    "plt.semilogy(taus, MC2, 'bo-',label=r'$MC(\\tau;W_2^+)$')\n",
    "plt.semilogy(taus, MC3, 'bs-',label=r'$MC(\\tau;W_3^+)$')\n",
    "plt.gca().set_xlim([1,30])\n",
    "plt.gca().set_ylim([1e-4,3])\n",
    "plt.xlabel(r'$\\tau$')\n",
    "plt.ylabel(r'Memory capacity')\n",
    "_ = plt.legend()"
   ]
  },
  {
   "cell_type": "markdown",
   "metadata": {},
   "source": [
    "## Illustration of $\\mathcal{R}$ for non-symmetric and (Wigner) symmetric Gaussian $W$\n"
   ]
  },
  {
   "cell_type": "code",
   "execution_count": 14,
   "metadata": {},
   "outputs": [
    {
     "data": {
      "image/png": "[encoded data removed]",
      "text/plain": [
       "<Figure size 432x288 with 1 Axes>"
      ]
     },
     "metadata": {
      "needs_background": "light"
     },
     "output_type": "display_data"
    }
   ],
   "source": [
    "choice_W = 'Wigner' # 'iid', 'Wigner', 'Haar'\n",
    "alpha = 0.9\n",
    "n = 200\n",
    "T = 400\n",
    "\n",
    "if choice_W == 'iid':\n",
    "    W = np.random.randn(n,n)/np.sqrt(n)\n",
    "    W = W/np.abs(scipy.sparse.linalg.eigs(W,1)[0])\n",
    "    W = alpha*W\n",
    "\n",
    "if choice_W == 'Wigner':\n",
    "    W = np.random.randn(n,n)/np.sqrt(n)\n",
    "    W = np.triu(W,1)+np.tril(W.T,-1)+np.diag(np.random.randn(n)/np.sqrt(n))\n",
    "    W = W/np.abs(scipy.sparse.linalg.eigs(W,1)[0])\n",
    "    W = alpha*W\n",
    "\n",
    "if choice_W == 'Haar':\n",
    "    W = np.random.randn(n)/np.sqrt(n)\n",
    "    W = np.linalg.solve(scipy.linalg.sqrtm(W@W.T),W)\n",
    "    W = alpha*W\n",
    "\n",
    "pW = np.zeros((n,n,T))\n",
    "pW[:,:,0]=np.eye(n)\n",
    "\n",
    "pWW = np.zeros((n,n,T))\n",
    "pWW[:,:,0]=np.eye(n)\n",
    "\n",
    "for i in range(1,T):\n",
    "    pW[:,:,i]=W@pW[:,:,i-1]\n",
    "    pWW[:,:,i]=W@pWW[:,:,i-1]@W.T\n",
    "\n",
    "sumpWW = np.sum(pWW,2)\n",
    "\n",
    "S=np.zeros((n,n,T))\n",
    "for i in range(1,T):\n",
    "    S[:,:,i]=sumpWW@(pW[:,:,i].T)\n",
    "\n",
    "start_R =n/T/np.abs(1-n/T)*np.eye(T)\n",
    "start_tR=np.abs(1-n/T)*sumpWW\n",
    "R,tR = computeR(n,T,S,start_R,start_tR)\n",
    "\n",
    "plt.imshow(1-R[0:10,0:10],cmap='gray')\n",
    "plt.title(r'Illustration of $\\mathcal{R}$')\n",
    "_ = plt.show()"
   ]
  },
  {
   "cell_type": "markdown",
   "metadata": {},
   "source": [
    "## FUNCTIONS"
   ]
  },
  {
   "cell_type": "code",
   "execution_count": 7,
   "metadata": {},
   "outputs": [],
   "source": [
    "def computeR(n,T,S,start_R,start_tR):\n",
    "\n",
    "    if n<T:\n",
    "        dIn=0\n",
    "        dIT=np.eye(T)\n",
    "    else:\n",
    "        dIn=np.eye(n)\n",
    "        dIT=0\n",
    "\n",
    "    Rtmp  = np.zeros((T,T))\n",
    "\n",
    "    R = start_R\n",
    "    tR= start_tR\n",
    "\n",
    "    while np.max(np.abs((R-Rtmp)))>1e-15:\n",
    "        Rtmp=R\n",
    "\n",
    "        invtR = np.linalg.inv(dIn+tR)\n",
    "        r=np.zeros(T)\n",
    "        for q in range(T):\n",
    "            r[q]=1/n*np.trace(S[:,:,q]@invtR)\n",
    "\n",
    "        R = n/T*scipy.linalg.toeplitz(r)\n",
    "\n",
    "        inv_I_R = np.linalg.inv(dIT+R)\n",
    "        tR = 1/T*np.trace(inv_I_R)*S[:,:,0]\n",
    "        for q in range(1,T):\n",
    "            tR = tR + 1/T*np.sum(np.diag(inv_I_R,q-1))*(S[:,:,q]+S[:,:,q].T)\n",
    "\n",
    "    return R,tR"
   ]
  }
 ],
 "metadata": {
  "kernelspec": {
   "display_name": "Python 3",
   "language": "python",
   "name": "python3"
  },
  "language_info": {
   "codemirror_mode": {
    "name": "ipython",
    "version": 3
   },
   "file_extension": ".py",
   "mimetype": "text/x-python",
   "name": "python",
   "nbconvert_exporter": "python",
   "pygments_lexer": "ipython3",
   "version": "3.9.1"
  }
 },
 "nbformat": 4,
 "nbformat_minor": 4
}
